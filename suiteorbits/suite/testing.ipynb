{
 "cells": [
  {
   "cell_type": "code",
   "execution_count": 1,
   "metadata": {},
   "outputs": [],
   "source": [
    "import numpy as np\n",
    "import matplotlib.pyplot as plt \n"
   ]
  },
  {
   "cell_type": "code",
   "execution_count": 2,
   "metadata": {},
   "outputs": [],
   "source": [
    "dims = np.array(['R', 'Lz'])"
   ]
  },
  {
   "cell_type": "code",
   "execution_count": 3,
   "metadata": {},
   "outputs": [],
   "source": [
    "from galpy.orbit import Orbit\n"
   ]
  },
  {
   "cell_type": "code",
   "execution_count": 4,
   "metadata": {},
   "outputs": [],
   "source": [
    "orbitMethods = [method for method in dir(Orbit) if callable(getattr(Orbit, method)) and not method.startswith(\"__\")]"
   ]
  },
  {
   "cell_type": "code",
   "execution_count": 5,
   "metadata": {},
   "outputs": [],
   "source": [
    "if type(dims) == str:\n",
    "    print(dims)\n",
    "else:\n",
    "    assert type(dims) == np.ndarray, \\\n",
    "        \"'dims' must be a string or numpy array of strings\"\n",
    "    assert dims.shape == (2,), \\\n",
    "        f\"'dims' must have shape (2,) but it has shape {dims.shape}\"\n",
    "    assert all(item in orbitMethods for item in dims), \\\n",
    "        'All elements of dims must be a method the galpy orbit object: \\n' + ', '.join(orbitMethods)"
   ]
  },
  {
   "cell_type": "markdown",
   "metadata": {},
   "source": [
    "# Initializer"
   ]
  },
  {
   "cell_type": "code",
   "execution_count": 8,
   "metadata": {},
   "outputs": [],
   "source": [
    "from suiteorbits import varyE_fixLz\n",
    "from galpy.potential import NFWPotential"
   ]
  },
  {
   "cell_type": "code",
   "execution_count": 9,
   "metadata": {},
   "outputs": [],
   "source": [
    "#from .initializers import varyE_fixLz"
   ]
  },
  {
   "cell_type": "code",
   "execution_count": 10,
   "metadata": {},
   "outputs": [
    {
     "ename": "ValueError",
     "evalue": "operands could not be broadcast together with shapes (10000,) (2,) ",
     "output_type": "error",
     "traceback": [
      "\u001b[0;31m---------------------------------------------------------------------------\u001b[0m",
      "\u001b[0;31mValueError\u001b[0m                                Traceback (most recent call last)",
      "Cell \u001b[0;32mIn[10], line 4\u001b[0m\n\u001b[1;32m      2\u001b[0m Lz \u001b[38;5;241m=\u001b[39m \u001b[38;5;241m1.0\u001b[39m\n\u001b[1;32m      3\u001b[0m pot \u001b[38;5;241m=\u001b[39m NFWPotential(normalize\u001b[38;5;241m=\u001b[39m\u001b[38;5;241m1\u001b[39m)\n\u001b[0;32m----> 4\u001b[0m \u001b[43mvaryE_fixLz\u001b[49m\u001b[43m(\u001b[49m\u001b[43mE_range\u001b[49m\u001b[43m,\u001b[49m\u001b[43m \u001b[49m\u001b[43mLz\u001b[49m\u001b[43m,\u001b[49m\u001b[43m \u001b[49m\u001b[43mpot\u001b[49m\u001b[43m)\u001b[49m\n",
      "File \u001b[0;32m/geir_data/scr/gabrielspace/miniforge3/envs/ML_Dyn/lib/python3.12/site-packages/suiteorbits/suite/initializers.py:22\u001b[0m, in \u001b[0;36mvaryE_fixLz\u001b[0;34m(E_range, Lz, potential, **kwargs)\u001b[0m\n\u001b[1;32m     20\u001b[0m \u001b[38;5;66;03m# update technique for calculating r:\u001b[39;00m\n\u001b[1;32m     21\u001b[0m r_range \u001b[38;5;241m=\u001b[39m np\u001b[38;5;241m.\u001b[39mlinspace(\u001b[38;5;241m0.01\u001b[39m, \u001b[38;5;241m50\u001b[39m, \u001b[38;5;241m10000\u001b[39m) \u001b[38;5;66;03m# NEEDED: add way to automate the radius range\u001b[39;00m\n\u001b[0;32m---> 22\u001b[0m r \u001b[38;5;241m=\u001b[39m r_range[np\u001b[38;5;241m.\u001b[39margmin(\u001b[43mpotential\u001b[49m\u001b[43m(\u001b[49m\u001b[43mr_range\u001b[49m\u001b[43m,\u001b[49m\u001b[43m \u001b[49m\u001b[38;5;241;43m0\u001b[39;49m\u001b[43m)\u001b[49m\u001b[43m \u001b[49m\u001b[38;5;241;43m+\u001b[39;49m\u001b[43m \u001b[49m\u001b[38;5;241;43m0.5\u001b[39;49m\u001b[43m \u001b[49m\u001b[38;5;241;43m*\u001b[39;49m\u001b[43m \u001b[49m\u001b[43mLz\u001b[49m\u001b[38;5;241;43m*\u001b[39;49m\u001b[38;5;241;43m*\u001b[39;49m\u001b[38;5;241;43m2\u001b[39;49m\u001b[43m \u001b[49m\u001b[38;5;241;43m/\u001b[39;49m\u001b[43m \u001b[49m\u001b[43mr_range\u001b[49m\u001b[38;5;241;43m*\u001b[39;49m\u001b[38;5;241;43m*\u001b[39;49m\u001b[38;5;241;43m2\u001b[39;49m\u001b[43m \u001b[49m\u001b[38;5;241;43m-\u001b[39;49m\u001b[43m \u001b[49m\u001b[43mE_range\u001b[49m)]\n\u001b[1;32m     23\u001b[0m vT \u001b[38;5;241m=\u001b[39m Lz \u001b[38;5;241m/\u001b[39m r\n\u001b[1;32m     24\u001b[0m \u001b[38;5;28;01mreturn\u001b[39;00m Orbit([[r[i], \u001b[38;5;241m0\u001b[39m\u001b[38;5;241m*\u001b[39mu\u001b[38;5;241m.\u001b[39mkm\u001b[38;5;241m/\u001b[39ms, vT[i]] \u001b[38;5;28;01mfor\u001b[39;00m i \u001b[38;5;129;01min\u001b[39;00m \u001b[38;5;28mrange\u001b[39m(\u001b[38;5;241m0\u001b[39m, \u001b[38;5;28mlen\u001b[39m(E_range))])\n",
      "\u001b[0;31mValueError\u001b[0m: operands could not be broadcast together with shapes (10000,) (2,) "
     ]
    }
   ],
   "source": [
    "E_range = np.array([0.5, 1.5])\n",
    "Lz = 1.0\n",
    "pot = NFWPotential(normalize=1)\n",
    "varyE_fixLz(E_range, Lz, pot)"
   ]
  },
  {
   "cell_type": "code",
   "execution_count": 13,
   "metadata": {},
   "outputs": [],
   "source": [
    "import astropy.units as u"
   ]
  },
  {
   "cell_type": "code",
   "execution_count": null,
   "metadata": {},
   "outputs": [],
   "source": [
    "def varyE_fixLz(E_range, Lz, potential, _res=int(1e4), **kwargs):\n",
    "    '''\n",
    "    Initialize n particles with varying energy and the same angular momentum.\n",
    "    \n",
    "    Parameters:\n",
    "    ----------\n",
    "    E_range : ndarray\n",
    "        Range of energies to explore, in units of km^2/s^2.\n",
    "    Lz : float\n",
    "        Angular momentum of the energies, in units of kpc km/s\n",
    "    potential : galpy.potential.Potential\n",
    "        The galpy potential object to use.\n",
    "    _res : int\n",
    "        Resolution of the radius and energy list. Default is 1e4.\n",
    "    **kwargs : dict\n",
    "        Additional keyword arguments to pass to the Orbit object.\n",
    "    \n",
    "    Returns:\n",
    "    -------\n",
    "    Orbit\n",
    "        An Orbit object with n particles initialized at apocenter with varying energy and the same angular momentum.\n",
    "\n",
    "    Notes:\n",
    "    -----\n",
    "    Particles are initialized at apocenter and tangential velocity in only one direction.\n",
    "    Assumes a spherically symmetric potential.\n",
    "\n",
    "    Needed:\n",
    "    ------\n",
    "    * Add way to automate the resolution of the radius and energy lists.\n",
    "    * Add way to automate the radius range, resolution, and scaling.\n",
    "    * Add way to automate the energy resolution and scaling.\n",
    "\n",
    "    '''\n",
    "\n",
    "    # update technique for calculating r:\n",
    "    _res = int(1e4) # NEEDED: add way to automate the resolution\n",
    "    r_range = np.linspace(0.01, 50, _res) # NEEDED: add way to automate the radius range, resolution, and scaling\n",
    "    E_list = np.linspace(E_range[0], E_range[1], _res) # NEEDED: add way to automate the energy range, resolution, and scaling\n",
    "    r = r_range[np.argmin(potential(r_range, 0) + (0.5 * Lz**2 / r_range**2) - E_list)]\n",
    "    vT = Lz / r\n",
    "    return Orbit([[r[i], 0*u.km/u.s, vT[i]] for i in range(0, len(E_range))]) # [R,vR,vT(,z,vz,phi)]"
   ]
  },
  {
   "cell_type": "code",
   "execution_count": 39,
   "metadata": {},
   "outputs": [
    {
     "ename": "IndexError",
     "evalue": "invalid index to scalar variable.",
     "output_type": "error",
     "traceback": [
      "\u001b[0;31m---------------------------------------------------------------------------\u001b[0m",
      "\u001b[0;31mIndexError\u001b[0m                                Traceback (most recent call last)",
      "Cell \u001b[0;32mIn[39], line 1\u001b[0m\n\u001b[0;32m----> 1\u001b[0m \u001b[43mvaryE_fixLz\u001b[49m\u001b[43m(\u001b[49m\u001b[43mE_range\u001b[49m\u001b[43m,\u001b[49m\u001b[43m \u001b[49m\u001b[43mLz\u001b[49m\u001b[43m,\u001b[49m\u001b[43m \u001b[49m\u001b[43mpot\u001b[49m\u001b[43m)\u001b[49m\n",
      "Cell \u001b[0;32mIn[38], line 33\u001b[0m, in \u001b[0;36mvaryE_fixLz\u001b[0;34m(E_range, Lz, potential, _res, **kwargs)\u001b[0m\n\u001b[1;32m     31\u001b[0m r \u001b[38;5;241m=\u001b[39m r_range[np\u001b[38;5;241m.\u001b[39margmin(potential(r_range, \u001b[38;5;241m0\u001b[39m) \u001b[38;5;241m+\u001b[39m (\u001b[38;5;241m0.5\u001b[39m \u001b[38;5;241m*\u001b[39m Lz\u001b[38;5;241m*\u001b[39m\u001b[38;5;241m*\u001b[39m\u001b[38;5;241m2\u001b[39m \u001b[38;5;241m/\u001b[39m r_range\u001b[38;5;241m*\u001b[39m\u001b[38;5;241m*\u001b[39m\u001b[38;5;241m2\u001b[39m) \u001b[38;5;241m-\u001b[39m E_list)]\n\u001b[1;32m     32\u001b[0m vT \u001b[38;5;241m=\u001b[39m Lz \u001b[38;5;241m/\u001b[39m r\n\u001b[0;32m---> 33\u001b[0m \u001b[38;5;28;01mreturn\u001b[39;00m Orbit([[\u001b[43mr\u001b[49m\u001b[43m[\u001b[49m\u001b[43mi\u001b[49m\u001b[43m]\u001b[49m, \u001b[38;5;241m0\u001b[39m\u001b[38;5;241m*\u001b[39mu\u001b[38;5;241m.\u001b[39mkm\u001b[38;5;241m/\u001b[39mu\u001b[38;5;241m.\u001b[39ms, vT[i]] \u001b[38;5;28;01mfor\u001b[39;00m i \u001b[38;5;129;01min\u001b[39;00m \u001b[38;5;28mrange\u001b[39m(\u001b[38;5;241m0\u001b[39m, \u001b[38;5;28mlen\u001b[39m(E_range))])\n",
      "\u001b[0;31mIndexError\u001b[0m: invalid index to scalar variable."
     ]
    }
   ],
   "source": [
    "varyE_fixLz(E_range, Lz, pot)"
   ]
  },
  {
   "cell_type": "code",
   "execution_count": null,
   "metadata": {},
   "outputs": [],
   "source": [
    "_res = int(1e4)\n",
    "E_list = np.linspace(E_range[0], E_range[1], _res)\n",
    "r_range = np.linspace(0.01, 50, _res) # NEEDED: add way to automate the radius range\n",
    "r = r_range[np.argmin(pot(r_range, 0) + (0.5 * Lz**2 / r_range**2) - E_list)]\n"
   ]
  },
  {
   "cell_type": "code",
   "execution_count": 25,
   "metadata": {},
   "outputs": [],
   "source": [
    "L_range = 0.5 * (Lz**2 / r_range**2)"
   ]
  },
  {
   "cell_type": "code",
   "execution_count": 22,
   "metadata": {},
   "outputs": [
    {
     "ename": "ValueError",
     "evalue": "operands could not be broadcast together with shapes (10000,) (2,) ",
     "output_type": "error",
     "traceback": [
      "\u001b[0;31m---------------------------------------------------------------------------\u001b[0m",
      "\u001b[0;31mValueError\u001b[0m                                Traceback (most recent call last)",
      "Cell \u001b[0;32mIn[22], line 1\u001b[0m\n\u001b[0;32m----> 1\u001b[0m \u001b[43mpot\u001b[49m\u001b[43m(\u001b[49m\u001b[43mr_range\u001b[49m\u001b[43m,\u001b[49m\u001b[43m \u001b[49m\u001b[38;5;241;43m0\u001b[39;49m\u001b[43m)\u001b[49m\u001b[43m \u001b[49m\u001b[38;5;241;43m+\u001b[39;49m\u001b[43m \u001b[49m\u001b[38;5;241;43m0.5\u001b[39;49m\u001b[43m \u001b[49m\u001b[38;5;241;43m*\u001b[39;49m\u001b[43m \u001b[49m\u001b[43m(\u001b[49m\u001b[43mLz\u001b[49m\u001b[38;5;241;43m*\u001b[39;49m\u001b[38;5;241;43m*\u001b[39;49m\u001b[38;5;241;43m2\u001b[39;49m\u001b[43m \u001b[49m\u001b[38;5;241;43m/\u001b[39;49m\u001b[43m \u001b[49m\u001b[43mr_range\u001b[49m\u001b[38;5;241;43m*\u001b[39;49m\u001b[38;5;241;43m*\u001b[39;49m\u001b[38;5;241;43m2\u001b[39;49m\u001b[43m)\u001b[49m\u001b[43m \u001b[49m\u001b[38;5;241;43m-\u001b[39;49m\u001b[43m \u001b[49m\u001b[43mE_range\u001b[49m\n",
      "\u001b[0;31mValueError\u001b[0m: operands could not be broadcast together with shapes (10000,) (2,) "
     ]
    }
   ],
   "source": [
    "pot(r_range, 0) + 0.5 * (Lz**2 / r_range**2) - E_range"
   ]
  },
  {
   "cell_type": "code",
   "execution_count": null,
   "metadata": {},
   "outputs": [
    {
     "data": {
      "text/plain": [
       "(3, 2)"
      ]
     },
     "execution_count": 48,
     "metadata": {},
     "output_type": "execute_result"
    }
   ],
   "source": [
    "np.array([[0, 2], [1,3], [1,3]]).shape"
   ]
  },
  {
   "cell_type": "code",
   "execution_count": null,
   "metadata": {},
   "outputs": [
    {
     "data": {
      "text/plain": [
       "True"
      ]
     },
     "execution_count": 26,
     "metadata": {},
     "output_type": "execute_result"
    }
   ],
   "source": [
    "all(isinstance(item, str) for item in dims)"
   ]
  },
  {
   "cell_type": "code",
   "execution_count": null,
   "metadata": {},
   "outputs": [
    {
     "data": {
      "text/plain": [
       "<galpy.orbit.Orbits.Orbit at 0x284eb54f0>"
      ]
     },
     "execution_count": 36,
     "metadata": {},
     "output_type": "execute_result"
    }
   ],
   "source": [
    "Orbit"
   ]
  },
  {
   "cell_type": "code",
   "execution_count": null,
   "metadata": {},
   "outputs": [
    {
     "data": {
      "text/plain": [
       "['E',\n",
       " 'ER',\n",
       " 'Ez',\n",
       " 'Jacobi',\n",
       " 'L',\n",
       " 'LcE',\n",
       " 'Lz',\n",
       " 'Op',\n",
       " 'Or',\n",
       " 'Oz',\n",
       " 'R',\n",
       " 'SOS',\n",
       " 'SkyCoord',\n",
       " 'Tp',\n",
       " 'Tr',\n",
       " 'TrTp',\n",
       " 'Tz',\n",
       " 'U',\n",
       " 'V',\n",
       " 'W',\n",
       " '_base_plotSOS',\n",
       " '_call_internal',\n",
       " '_check_method_c_compatible',\n",
       " '_check_method_dissipative_compatible',\n",
       " '_from_slice',\n",
       " '_parse_plot_quantity',\n",
       " '_setupOrbitInterp',\n",
       " '_setup_EccZmaxRperiRap',\n",
       " '_setup_actions',\n",
       " '_setup_actionsFreqsAngles',\n",
       " '_setup_parse_coordtransform',\n",
       " '_setup_parse_listofOrbits',\n",
       " '_setup_parse_vxvv',\n",
       " '_setupaA',\n",
       " 'animate',\n",
       " 'animate3d',\n",
       " 'bb',\n",
       " 'bruteSOS',\n",
       " 'check_integrator',\n",
       " 'dec',\n",
       " 'dim',\n",
       " 'dist',\n",
       " 'e',\n",
       " 'flip',\n",
       " 'from_fit',\n",
       " 'from_name',\n",
       " 'getOrbit',\n",
       " 'getOrbit_dxdv',\n",
       " 'helioX',\n",
       " 'helioY',\n",
       " 'helioZ',\n",
       " 'integrate',\n",
       " 'integrate_SOS',\n",
       " 'integrate_dxdv',\n",
       " 'jp',\n",
       " 'jr',\n",
       " 'jz',\n",
       " 'll',\n",
       " 'phasedim',\n",
       " 'phi',\n",
       " 'plot',\n",
       " 'plot3d',\n",
       " 'plotBruteSOS',\n",
       " 'plotSOS',\n",
       " 'pmbb',\n",
       " 'pmdec',\n",
       " 'pmll',\n",
       " 'pmra',\n",
       " 'r',\n",
       " 'rE',\n",
       " 'ra',\n",
       " 'rap',\n",
       " 'reshape',\n",
       " 'rguiding',\n",
       " 'rperi',\n",
       " 'theta',\n",
       " 'time',\n",
       " 'toLinear',\n",
       " 'toPlanar',\n",
       " 'turn_physical_off',\n",
       " 'turn_physical_on',\n",
       " 'vR',\n",
       " 'vT',\n",
       " 'vbb',\n",
       " 'vdec',\n",
       " 'vll',\n",
       " 'vlos',\n",
       " 'vphi',\n",
       " 'vr',\n",
       " 'vra',\n",
       " 'vtheta',\n",
       " 'vx',\n",
       " 'vy',\n",
       " 'vz',\n",
       " 'wp',\n",
       " 'wr',\n",
       " 'wz',\n",
       " 'x',\n",
       " 'y',\n",
       " 'z',\n",
       " 'zmax']"
      ]
     },
     "execution_count": 38,
     "metadata": {},
     "output_type": "execute_result"
    }
   ],
   "source": [
    "methods"
   ]
  },
  {
   "cell_type": "code",
   "execution_count": null,
   "metadata": {},
   "outputs": [
    {
     "data": {
      "text/plain": [
       "'8'"
      ]
     },
     "execution_count": 30,
     "metadata": {},
     "output_type": "execute_result"
    }
   ],
   "source": [
    "dims[1]"
   ]
  },
  {
   "cell_type": "code",
   "execution_count": null,
   "metadata": {},
   "outputs": [
    {
     "data": {
      "text/plain": [
       "True"
      ]
     },
     "execution_count": 29,
     "metadata": {},
     "output_type": "execute_result"
    }
   ],
   "source": [
    "isinstance(dims[1], str)"
   ]
  },
  {
   "cell_type": "code",
   "execution_count": null,
   "metadata": {},
   "outputs": [],
   "source": [
    "assert all(isinstance(item, str) for item in dims), 'All elements of dims must be strings'"
   ]
  },
  {
   "cell_type": "code",
   "execution_count": null,
   "metadata": {},
   "outputs": [],
   "source": [
    "expected_shape = (3,)  # Replace with the expected shape\n",
    "assert dims.shape == expected_shape, f'Expected shape {expected_shape}, but got {dims.shape}'"
   ]
  }
 ],
 "metadata": {
  "kernelspec": {
   "display_name": "ML_Dyn",
   "language": "python",
   "name": "python3"
  },
  "language_info": {
   "codemirror_mode": {
    "name": "ipython",
    "version": 3
   },
   "file_extension": ".py",
   "mimetype": "text/x-python",
   "name": "python",
   "nbconvert_exporter": "python",
   "pygments_lexer": "ipython3",
   "version": "3.12.8"
  }
 },
 "nbformat": 4,
 "nbformat_minor": 2
}
