{
 "cells": [
  {
   "cell_type": "code",
   "execution_count": 1,
   "metadata": {},
   "outputs": [],
   "source": [
    "import numpy as np"
   ]
  },
  {
   "cell_type": "code",
   "execution_count": 27,
   "metadata": {},
   "outputs": [],
   "source": [
    "dims = np.array(['R', 8])"
   ]
  },
  {
   "cell_type": "code",
   "execution_count": 32,
   "metadata": {},
   "outputs": [
    {
     "name": "stderr",
     "output_type": "stream",
     "text": [
      "/opt/anaconda3/lib/python3.12/site-packages/galpy/util/_load_extension_libs.py:98: galpyWarning: libgalpy C extension module not loaded, because of error 'dlopen(/opt/anaconda3/lib/python3.12/site-packages/libgalpy.cpython-312-darwin.so, 0x0006): Library not loaded: @rpath/libcblas.3.dylib\n",
      "  Referenced from: <85EFA90A-BE88-35A7-AD9E-F20432CD4AFA> /opt/anaconda3/lib/libgsl.25.dylib\n",
      "  Reason: tried: '/opt/anaconda3/lib/libcblas.3.dylib' (no such file), '/opt/anaconda3/lib/python3.12/site-packages/../../libcblas.3.dylib' (no such file), '/opt/anaconda3/lib/python3.12/site-packages/../../libcblas.3.dylib' (no such file), '/opt/anaconda3/lib/python3.12/lib-dynload/../../libcblas.3.dylib' (no such file), '/opt/anaconda3/bin/../lib/libcblas.3.dylib' (no such file), '/usr/local/lib/libcblas.3.dylib' (no such file), '/usr/lib/libcblas.3.dylib' (no such file, not in dyld cache)'\n",
      "  warnings.warn(\n"
     ]
    },
    {
     "data": {
      "text/plain": [
       "galpy.orbit.Orbits.Orbit"
      ]
     },
     "execution_count": 32,
     "metadata": {},
     "output_type": "execute_result"
    }
   ],
   "source": [
    "from galpy.orbit import Orbit\n"
   ]
  },
  {
   "cell_type": "code",
   "execution_count": 39,
   "metadata": {},
   "outputs": [],
   "source": [
    "orbitMethods = [method for method in dir(Orbit) if callable(getattr(Orbit, method)) and not method.startswith(\"__\")]"
   ]
  },
  {
   "cell_type": "code",
   "execution_count": 45,
   "metadata": {},
   "outputs": [
    {
     "ename": "AssertionError",
     "evalue": "All elements of dims must be a method the galpy orbit object: \nE, ER, Ez, Jacobi, L, LcE, Lz, Op, Or, Oz, R, SOS, SkyCoord, Tp, Tr, TrTp, Tz, U, V, W, _base_plotSOS, _call_internal, _check_method_c_compatible, _check_method_dissipative_compatible, _from_slice, _parse_plot_quantity, _setupOrbitInterp, _setup_EccZmaxRperiRap, _setup_actions, _setup_actionsFreqsAngles, _setup_parse_coordtransform, _setup_parse_listofOrbits, _setup_parse_vxvv, _setupaA, animate, animate3d, bb, bruteSOS, check_integrator, dec, dim, dist, e, flip, from_fit, from_name, getOrbit, getOrbit_dxdv, helioX, helioY, helioZ, integrate, integrate_SOS, integrate_dxdv, jp, jr, jz, ll, phasedim, phi, plot, plot3d, plotBruteSOS, plotSOS, pmbb, pmdec, pmll, pmra, r, rE, ra, rap, reshape, rguiding, rperi, theta, time, toLinear, toPlanar, turn_physical_off, turn_physical_on, vR, vT, vbb, vdec, vll, vlos, vphi, vr, vra, vtheta, vx, vy, vz, wp, wr, wz, x, y, z, zmax",
     "output_type": "error",
     "traceback": [
      "\u001b[0;31m---------------------------------------------------------------------------\u001b[0m",
      "\u001b[0;31mAssertionError\u001b[0m                            Traceback (most recent call last)",
      "Cell \u001b[0;32mIn[45], line 8\u001b[0m\n\u001b[1;32m      4\u001b[0m \u001b[38;5;28;01massert\u001b[39;00m \u001b[38;5;28mtype\u001b[39m(dims) \u001b[38;5;241m==\u001b[39m np\u001b[38;5;241m.\u001b[39mndarray, \\\n\u001b[1;32m      5\u001b[0m     \u001b[38;5;124m\"\u001b[39m\u001b[38;5;124m'\u001b[39m\u001b[38;5;124mdims\u001b[39m\u001b[38;5;124m'\u001b[39m\u001b[38;5;124m must be a string or numpy array of strings\u001b[39m\u001b[38;5;124m\"\u001b[39m\n\u001b[1;32m      6\u001b[0m \u001b[38;5;28;01massert\u001b[39;00m dims\u001b[38;5;241m.\u001b[39mshape \u001b[38;5;241m==\u001b[39m (\u001b[38;5;241m2\u001b[39m,), \\\n\u001b[1;32m      7\u001b[0m     \u001b[38;5;124mf\u001b[39m\u001b[38;5;124m\"\u001b[39m\u001b[38;5;124m'\u001b[39m\u001b[38;5;124mdims\u001b[39m\u001b[38;5;124m'\u001b[39m\u001b[38;5;124m must have shape (2,) but it has shape \u001b[39m\u001b[38;5;132;01m{\u001b[39;00mdims\u001b[38;5;241m.\u001b[39mshape\u001b[38;5;132;01m}\u001b[39;00m\u001b[38;5;124m\"\u001b[39m\n\u001b[0;32m----> 8\u001b[0m \u001b[38;5;28;01massert\u001b[39;00m \u001b[38;5;28mall\u001b[39m(item \u001b[38;5;129;01min\u001b[39;00m orbitMethods \u001b[38;5;28;01mfor\u001b[39;00m item \u001b[38;5;129;01min\u001b[39;00m dims), \\\n\u001b[1;32m      9\u001b[0m     \u001b[38;5;124m'\u001b[39m\u001b[38;5;124mAll elements of dims must be a method the galpy orbit object: \u001b[39m\u001b[38;5;130;01m\\n\u001b[39;00m\u001b[38;5;124m'\u001b[39m \u001b[38;5;241m+\u001b[39m \u001b[38;5;124m'\u001b[39m\u001b[38;5;124m, \u001b[39m\u001b[38;5;124m'\u001b[39m\u001b[38;5;241m.\u001b[39mjoin(orbitMethods)\n",
      "\u001b[0;31mAssertionError\u001b[0m: All elements of dims must be a method the galpy orbit object: \nE, ER, Ez, Jacobi, L, LcE, Lz, Op, Or, Oz, R, SOS, SkyCoord, Tp, Tr, TrTp, Tz, U, V, W, _base_plotSOS, _call_internal, _check_method_c_compatible, _check_method_dissipative_compatible, _from_slice, _parse_plot_quantity, _setupOrbitInterp, _setup_EccZmaxRperiRap, _setup_actions, _setup_actionsFreqsAngles, _setup_parse_coordtransform, _setup_parse_listofOrbits, _setup_parse_vxvv, _setupaA, animate, animate3d, bb, bruteSOS, check_integrator, dec, dim, dist, e, flip, from_fit, from_name, getOrbit, getOrbit_dxdv, helioX, helioY, helioZ, integrate, integrate_SOS, integrate_dxdv, jp, jr, jz, ll, phasedim, phi, plot, plot3d, plotBruteSOS, plotSOS, pmbb, pmdec, pmll, pmra, r, rE, ra, rap, reshape, rguiding, rperi, theta, time, toLinear, toPlanar, turn_physical_off, turn_physical_on, vR, vT, vbb, vdec, vll, vlos, vphi, vr, vra, vtheta, vx, vy, vz, wp, wr, wz, x, y, z, zmax"
     ]
    }
   ],
   "source": [
    "if type(dims) == str:\n",
    "    print(dims)\n",
    "else:\n",
    "    assert type(dims) == np.ndarray, \\\n",
    "        \"'dims' must be a string or numpy array of strings\"\n",
    "    assert dims.shape == (2,), \\\n",
    "        f\"'dims' must have shape (2,) but it has shape {dims.shape}\"\n",
    "    assert all(item in orbitMethods for item in dims), \\\n",
    "        'All elements of dims must be a method the galpy orbit object: \\n' + ', '.join(orbitMethods)"
   ]
  },
  {
   "cell_type": "code",
   "execution_count": 48,
   "metadata": {},
   "outputs": [
    {
     "data": {
      "text/plain": [
       "(3, 2)"
      ]
     },
     "execution_count": 48,
     "metadata": {},
     "output_type": "execute_result"
    }
   ],
   "source": [
    "np.array([[0, 2], [1,3], [1,3]]).shape"
   ]
  },
  {
   "cell_type": "code",
   "execution_count": 26,
   "metadata": {},
   "outputs": [
    {
     "data": {
      "text/plain": [
       "True"
      ]
     },
     "execution_count": 26,
     "metadata": {},
     "output_type": "execute_result"
    }
   ],
   "source": [
    "all(isinstance(item, str) for item in dims)"
   ]
  },
  {
   "cell_type": "code",
   "execution_count": null,
   "metadata": {},
   "outputs": [
    {
     "data": {
      "text/plain": [
       "<galpy.orbit.Orbits.Orbit at 0x284eb54f0>"
      ]
     },
     "execution_count": 36,
     "metadata": {},
     "output_type": "execute_result"
    }
   ],
   "source": [
    "Orbit"
   ]
  },
  {
   "cell_type": "code",
   "execution_count": 38,
   "metadata": {},
   "outputs": [
    {
     "data": {
      "text/plain": [
       "['E',\n",
       " 'ER',\n",
       " 'Ez',\n",
       " 'Jacobi',\n",
       " 'L',\n",
       " 'LcE',\n",
       " 'Lz',\n",
       " 'Op',\n",
       " 'Or',\n",
       " 'Oz',\n",
       " 'R',\n",
       " 'SOS',\n",
       " 'SkyCoord',\n",
       " 'Tp',\n",
       " 'Tr',\n",
       " 'TrTp',\n",
       " 'Tz',\n",
       " 'U',\n",
       " 'V',\n",
       " 'W',\n",
       " '_base_plotSOS',\n",
       " '_call_internal',\n",
       " '_check_method_c_compatible',\n",
       " '_check_method_dissipative_compatible',\n",
       " '_from_slice',\n",
       " '_parse_plot_quantity',\n",
       " '_setupOrbitInterp',\n",
       " '_setup_EccZmaxRperiRap',\n",
       " '_setup_actions',\n",
       " '_setup_actionsFreqsAngles',\n",
       " '_setup_parse_coordtransform',\n",
       " '_setup_parse_listofOrbits',\n",
       " '_setup_parse_vxvv',\n",
       " '_setupaA',\n",
       " 'animate',\n",
       " 'animate3d',\n",
       " 'bb',\n",
       " 'bruteSOS',\n",
       " 'check_integrator',\n",
       " 'dec',\n",
       " 'dim',\n",
       " 'dist',\n",
       " 'e',\n",
       " 'flip',\n",
       " 'from_fit',\n",
       " 'from_name',\n",
       " 'getOrbit',\n",
       " 'getOrbit_dxdv',\n",
       " 'helioX',\n",
       " 'helioY',\n",
       " 'helioZ',\n",
       " 'integrate',\n",
       " 'integrate_SOS',\n",
       " 'integrate_dxdv',\n",
       " 'jp',\n",
       " 'jr',\n",
       " 'jz',\n",
       " 'll',\n",
       " 'phasedim',\n",
       " 'phi',\n",
       " 'plot',\n",
       " 'plot3d',\n",
       " 'plotBruteSOS',\n",
       " 'plotSOS',\n",
       " 'pmbb',\n",
       " 'pmdec',\n",
       " 'pmll',\n",
       " 'pmra',\n",
       " 'r',\n",
       " 'rE',\n",
       " 'ra',\n",
       " 'rap',\n",
       " 'reshape',\n",
       " 'rguiding',\n",
       " 'rperi',\n",
       " 'theta',\n",
       " 'time',\n",
       " 'toLinear',\n",
       " 'toPlanar',\n",
       " 'turn_physical_off',\n",
       " 'turn_physical_on',\n",
       " 'vR',\n",
       " 'vT',\n",
       " 'vbb',\n",
       " 'vdec',\n",
       " 'vll',\n",
       " 'vlos',\n",
       " 'vphi',\n",
       " 'vr',\n",
       " 'vra',\n",
       " 'vtheta',\n",
       " 'vx',\n",
       " 'vy',\n",
       " 'vz',\n",
       " 'wp',\n",
       " 'wr',\n",
       " 'wz',\n",
       " 'x',\n",
       " 'y',\n",
       " 'z',\n",
       " 'zmax']"
      ]
     },
     "execution_count": 38,
     "metadata": {},
     "output_type": "execute_result"
    }
   ],
   "source": [
    "methods"
   ]
  },
  {
   "cell_type": "code",
   "execution_count": 30,
   "metadata": {},
   "outputs": [
    {
     "data": {
      "text/plain": [
       "'8'"
      ]
     },
     "execution_count": 30,
     "metadata": {},
     "output_type": "execute_result"
    }
   ],
   "source": [
    "dims[1]"
   ]
  },
  {
   "cell_type": "code",
   "execution_count": 29,
   "metadata": {},
   "outputs": [
    {
     "data": {
      "text/plain": [
       "True"
      ]
     },
     "execution_count": 29,
     "metadata": {},
     "output_type": "execute_result"
    }
   ],
   "source": [
    "isinstance(dims[1], str)"
   ]
  },
  {
   "cell_type": "code",
   "execution_count": 19,
   "metadata": {},
   "outputs": [],
   "source": [
    "assert all(isinstance(item, str) for item in dims), 'All elements of dims must be strings'"
   ]
  },
  {
   "cell_type": "code",
   "execution_count": null,
   "metadata": {},
   "outputs": [],
   "source": [
    "expected_shape = (3,)  # Replace with the expected shape\n",
    "assert dims.shape == expected_shape, f'Expected shape {expected_shape}, but got {dims.shape}'"
   ]
  }
 ],
 "metadata": {
  "kernelspec": {
   "display_name": "base",
   "language": "python",
   "name": "python3"
  },
  "language_info": {
   "codemirror_mode": {
    "name": "ipython",
    "version": 3
   },
   "file_extension": ".py",
   "mimetype": "text/x-python",
   "name": "python",
   "nbconvert_exporter": "python",
   "pygments_lexer": "ipython3",
   "version": "3.12.2"
  }
 },
 "nbformat": 4,
 "nbformat_minor": 2
}
